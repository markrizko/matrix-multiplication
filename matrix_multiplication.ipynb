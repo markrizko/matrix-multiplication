{
 "cells": [
  {
   "cell_type": "markdown",
   "id": "21b9844c-351d-4932-96c6-3dcedcc09840",
   "metadata": {},
   "source": [
    "# Matrix-Multiplication \n"
   ]
  },
  {
   "cell_type": "markdown",
   "id": "579807bf-6766-44e2-9c1f-724804102715",
   "metadata": {},
   "source": [
    "## 2D/3D matrix-multiplication using `python3`"
   ]
  },
  {
   "cell_type": "markdown",
   "id": "534b1e93-1c8d-49c8-9bba-5501714a1638",
   "metadata": {},
   "source": [
    "##### In linear algebra and machine learning, matrix multiplication is a fundamental concept. \n",
    "##### There is many ways to add and multiply matrices mathematically and programmatically. \n",
    "##### Here are some implemenations purely using python."
   ]
  },
  {
   "cell_type": "code",
   "execution_count": 1,
   "id": "b1c2ad91-a73c-46a9-8f49-d6e956409a29",
   "metadata": {},
   "outputs": [
    {
     "name": "stdout",
     "output_type": "stream",
     "text": [
      "Collecting numpy\n",
      "  Obtaining dependency information for numpy from https://files.pythonhosted.org/packages/9b/5a/f265a1ba3641d16b5480a217a6aed08cceef09cd173b568cd5351053472a/numpy-1.26.0-cp310-cp310-manylinux_2_17_x86_64.manylinux2014_x86_64.whl.metadata\n",
      "  Downloading numpy-1.26.0-cp310-cp310-manylinux_2_17_x86_64.manylinux2014_x86_64.whl.metadata (58 kB)\n",
      "\u001b[2K     \u001b[38;2;114;156;31m━━━━━━━━━━━━━━━━━━━━━━━━━━━━━━━━━━━━━━━\u001b[0m \u001b[32m58.5/58.5 kB\u001b[0m \u001b[31m822.7 kB/s\u001b[0m eta \u001b[36m0:00:00\u001b[0m1m448.3 kB/s\u001b[0m eta \u001b[36m0:00:01\u001b[0m\n",
      "\u001b[?25hDownloading numpy-1.26.0-cp310-cp310-manylinux_2_17_x86_64.manylinux2014_x86_64.whl (18.2 MB)\n",
      "\u001b[2K   \u001b[38;2;114;156;31m━━━━━━━━━━━━━━━━━━━━━━━━━━━━━━━━━━━━━━━━\u001b[0m \u001b[32m18.2/18.2 MB\u001b[0m \u001b[31m28.7 MB/s\u001b[0m eta \u001b[36m0:00:00\u001b[0mm eta \u001b[36m0:00:01\u001b[0m0:01\u001b[0m:01\u001b[0m\n",
      "\u001b[?25hInstalling collected packages: numpy\n",
      "Successfully installed numpy-1.26.0\n"
     ]
    }
   ],
   "source": [
    "!pip install numpy"
   ]
  },
  {
   "cell_type": "code",
   "execution_count": 8,
   "id": "ec5e5b2c-3a19-4842-95f8-69245d925444",
   "metadata": {},
   "outputs": [
    {
     "name": "stdout",
     "output_type": "stream",
     "text": [
      "Collecting torch\n",
      "  Using cached torch-2.0.1-cp310-cp310-manylinux1_x86_64.whl (619.9 MB)\n",
      "Collecting filelock (from torch)\n",
      "  Obtaining dependency information for filelock from https://files.pythonhosted.org/packages/5e/5d/97afbafd9d584ff1b45fcb354a479a3609bd97f912f8f1f6c563cb1fae21/filelock-3.12.4-py3-none-any.whl.metadata\n",
      "  Downloading filelock-3.12.4-py3-none-any.whl.metadata (2.8 kB)\n",
      "Requirement already satisfied: typing-extensions in ./venv/lib/python3.10/site-packages (from torch) (4.8.0)\n",
      "Collecting sympy (from torch)\n",
      "  Using cached sympy-1.12-py3-none-any.whl (5.7 MB)\n",
      "Collecting networkx (from torch)\n",
      "  Using cached networkx-3.1-py3-none-any.whl (2.1 MB)\n",
      "Requirement already satisfied: jinja2 in ./venv/lib/python3.10/site-packages (from torch) (3.1.2)\n",
      "Collecting nvidia-cuda-nvrtc-cu11==11.7.99 (from torch)\n",
      "  Using cached nvidia_cuda_nvrtc_cu11-11.7.99-2-py3-none-manylinux1_x86_64.whl (21.0 MB)\n",
      "Collecting nvidia-cuda-runtime-cu11==11.7.99 (from torch)\n",
      "  Using cached nvidia_cuda_runtime_cu11-11.7.99-py3-none-manylinux1_x86_64.whl (849 kB)\n",
      "Collecting nvidia-cuda-cupti-cu11==11.7.101 (from torch)\n",
      "  Using cached nvidia_cuda_cupti_cu11-11.7.101-py3-none-manylinux1_x86_64.whl (11.8 MB)\n",
      "Collecting nvidia-cudnn-cu11==8.5.0.96 (from torch)\n",
      "  Using cached nvidia_cudnn_cu11-8.5.0.96-2-py3-none-manylinux1_x86_64.whl (557.1 MB)\n",
      "Collecting nvidia-cublas-cu11==11.10.3.66 (from torch)\n",
      "  Using cached nvidia_cublas_cu11-11.10.3.66-py3-none-manylinux1_x86_64.whl (317.1 MB)\n",
      "Collecting nvidia-cufft-cu11==10.9.0.58 (from torch)\n",
      "  Using cached nvidia_cufft_cu11-10.9.0.58-py3-none-manylinux1_x86_64.whl (168.4 MB)\n",
      "Collecting nvidia-curand-cu11==10.2.10.91 (from torch)\n",
      "  Using cached nvidia_curand_cu11-10.2.10.91-py3-none-manylinux1_x86_64.whl (54.6 MB)\n",
      "Collecting nvidia-cusolver-cu11==11.4.0.1 (from torch)\n",
      "  Using cached nvidia_cusolver_cu11-11.4.0.1-2-py3-none-manylinux1_x86_64.whl (102.6 MB)\n",
      "Collecting nvidia-cusparse-cu11==11.7.4.91 (from torch)\n",
      "  Using cached nvidia_cusparse_cu11-11.7.4.91-py3-none-manylinux1_x86_64.whl (173.2 MB)\n",
      "Collecting nvidia-nccl-cu11==2.14.3 (from torch)\n",
      "  Using cached nvidia_nccl_cu11-2.14.3-py3-none-manylinux1_x86_64.whl (177.1 MB)\n",
      "Collecting nvidia-nvtx-cu11==11.7.91 (from torch)\n",
      "  Using cached nvidia_nvtx_cu11-11.7.91-py3-none-manylinux1_x86_64.whl (98 kB)\n",
      "Collecting triton==2.0.0 (from torch)\n",
      "  Using cached triton-2.0.0-1-cp310-cp310-manylinux2014_x86_64.manylinux_2_17_x86_64.whl (63.3 MB)\n",
      "Requirement already satisfied: setuptools in ./venv/lib/python3.10/site-packages (from nvidia-cublas-cu11==11.10.3.66->torch) (63.2.0)\n",
      "Collecting wheel (from nvidia-cublas-cu11==11.10.3.66->torch)\n",
      "  Obtaining dependency information for wheel from https://files.pythonhosted.org/packages/b8/8b/31273bf66016be6ad22bb7345c37ff350276cfd46e389a0c2ac5da9d9073/wheel-0.41.2-py3-none-any.whl.metadata\n",
      "  Using cached wheel-0.41.2-py3-none-any.whl.metadata (2.2 kB)\n",
      "Collecting cmake (from triton==2.0.0->torch)\n",
      "  Obtaining dependency information for cmake from https://files.pythonhosted.org/packages/de/94/cba4b3ddc0d4555967cce8fd6e9fbced98a6bf62857db71c2400a7b6e183/cmake-3.27.5-py2.py3-none-manylinux2014_x86_64.manylinux_2_17_x86_64.whl.metadata\n",
      "  Downloading cmake-3.27.5-py2.py3-none-manylinux2014_x86_64.manylinux_2_17_x86_64.whl.metadata (6.7 kB)\n",
      "Collecting lit (from triton==2.0.0->torch)\n",
      "  Using cached lit-16.0.6-py3-none-any.whl\n",
      "Requirement already satisfied: MarkupSafe>=2.0 in ./venv/lib/python3.10/site-packages (from jinja2->torch) (2.1.3)\n",
      "Collecting mpmath>=0.19 (from sympy->torch)\n",
      "  Using cached mpmath-1.3.0-py3-none-any.whl (536 kB)\n",
      "Using cached filelock-3.12.4-py3-none-any.whl (11 kB)\n",
      "Downloading cmake-3.27.5-py2.py3-none-manylinux2014_x86_64.manylinux_2_17_x86_64.whl (26.1 MB)\n",
      "\u001b[2K   \u001b[38;2;114;156;31m━━━━━━━━━━━━━━━━━━━━━━━━━━━━━━━━━━━━━━━━\u001b[0m \u001b[32m26.1/26.1 MB\u001b[0m \u001b[31m36.7 MB/s\u001b[0m eta \u001b[36m0:00:00\u001b[0mm eta \u001b[36m0:00:01\u001b[0m[36m0:00:01\u001b[0m\n",
      "\u001b[?25hUsing cached wheel-0.41.2-py3-none-any.whl (64 kB)\n",
      "Installing collected packages: mpmath, lit, cmake, wheel, sympy, nvidia-nccl-cu11, nvidia-cufft-cu11, nvidia-cuda-nvrtc-cu11, networkx, filelock, nvidia-nvtx-cu11, nvidia-cusparse-cu11, nvidia-curand-cu11, nvidia-cuda-runtime-cu11, nvidia-cuda-cupti-cu11, nvidia-cublas-cu11, nvidia-cusolver-cu11, nvidia-cudnn-cu11, triton, torch\n",
      "Successfully installed cmake-3.27.5 filelock-3.12.4 lit-16.0.6 mpmath-1.3.0 networkx-3.1 nvidia-cublas-cu11-11.10.3.66 nvidia-cuda-cupti-cu11-11.7.101 nvidia-cuda-nvrtc-cu11-11.7.99 nvidia-cuda-runtime-cu11-11.7.99 nvidia-cudnn-cu11-8.5.0.96 nvidia-cufft-cu11-10.9.0.58 nvidia-curand-cu11-10.2.10.91 nvidia-cusolver-cu11-11.4.0.1 nvidia-cusparse-cu11-11.7.4.91 nvidia-nccl-cu11-2.14.3 nvidia-nvtx-cu11-11.7.91 sympy-1.12 torch-2.0.1 triton-2.0.0 wheel-0.41.2\n"
     ]
    }
   ],
   "source": [
    "!pip install torch"
   ]
  },
  {
   "cell_type": "markdown",
   "id": "97267f2f-c0bf-49a6-aa21-915b29195c07",
   "metadata": {},
   "source": [
    "##### Import the **`numpy`** library. This is necessary for advanced computations and comprehensive mathematical functions."
   ]
  },
  {
   "cell_type": "code",
   "execution_count": 2,
   "id": "8507ca0f-1c5f-4699-bdc9-7ca792631e32",
   "metadata": {},
   "outputs": [],
   "source": [
    "import numpy as np"
   ]
  },
  {
   "cell_type": "markdown",
   "id": "2eec400d-678a-4906-9fc4-5291e50d5e53",
   "metadata": {},
   "source": [
    "##### Import the **`PyTorch`** library. This is necessary because we will be using `torch` tensors to represent our matrices."
   ]
  },
  {
   "cell_type": "code",
   "execution_count": 9,
   "id": "0f5dce91-8407-4641-9186-793d0d3d8aad",
   "metadata": {},
   "outputs": [],
   "source": [
    "import torch"
   ]
  },
  {
   "cell_type": "code",
   "execution_count": 5,
   "id": "540e41a6-49d4-48a8-a8ba-1f996ae76e43",
   "metadata": {},
   "outputs": [
    {
     "name": "stdout",
     "output_type": "stream",
     "text": [
      "[[ 24  30  36]\n",
      " [ 51  66  81]\n",
      " [ 78 102 126]]\n"
     ]
    }
   ],
   "source": [
    "# Create matrices using np.arange and np.reshape which are two 3x3 matrices\n",
    "matrix_1 = np.arange(1,10).reshape(3,3)\n",
    "\n",
    "matrix_2 = np.arange(0,9).reshape(3,3)\n",
    "\n",
    "# Calculate the dot product of matrix_1 and matrix_2 using NumPy's dot function\n",
    "res = np.dot(matrix_1,matrix_2)\n",
    "\n",
    "# Print resulting matrix\n",
    "print(res)"
   ]
  },
  {
   "cell_type": "markdown",
   "id": "9f6f03cc-48ae-4ddc-b6e1-5a07caf21b11",
   "metadata": {},
   "source": [
    "##### You saw the first method which utilizes `numpy`, this next method involves using nested for loops. Use nested for loops to iterate through rows and columns of the matrices. The code uses three nested for loops to iterate through the rows and columns of `matrix_1` and `matrix_2`. For each row `i` in `matrix_1` and each column `j` in `matrix_2`, the code calculates the element at row `i` and column `j` of the result matrix `res`."
   ]
  },
  {
   "cell_type": "code",
   "execution_count": 7,
   "id": "3fee6ce0-fe1b-46c7-a0fa-35de9d524911",
   "metadata": {},
   "outputs": [
    {
     "name": "stdout",
     "output_type": "stream",
     "text": [
      "[[24, 30, 36], [51, 66, 81], [78, 102, 126]]\n"
     ]
    }
   ],
   "source": [
    "# Input two matrices and label them\n",
    "\n",
    "matrix_1 = [[1,2,3],\n",
    "            [4,5,6],\n",
    "            [7,8,9]]\n",
    "matrix_2 = [[0,1,2],\n",
    "            [3,4,5],\n",
    "            [6,7,8]]\n",
    "\n",
    "# Create an empty result matrix to store the multiplication result\n",
    "res = [[0 for x in range (3)] for y in range(3)]\n",
    "\n",
    "# Use nested for loops to iterate through rows and columns of the matrices\n",
    "for i in range(len(matrix_1)):\n",
    "    for j in range(len(matrix_2[0])):\n",
    "        for k in range(len(matrix_2)):\n",
    "\n",
    "            # Calculate the element at row 'i' and column 'j' of the result matrix\n",
    "            res[i][j] += matrix_1[i][k] * matrix_2[k][j]\n",
    "\n",
    "# Print the resulting matrix\n",
    "print(res)"
   ]
  },
  {
   "cell_type": "markdown",
   "id": "c613fdb0-adea-41dc-9a87-b3b90381dba5",
   "metadata": {},
   "source": [
    "##### The last method involves using **`pytorch`**. Tensors in `torch` can be scalars, vectors, and matrices."
   ]
  },
  {
   "cell_type": "code",
   "execution_count": 10,
   "id": "3629f5bf-dbd9-42ee-ab64-b96f8069ec59",
   "metadata": {},
   "outputs": [
    {
     "name": "stdout",
     "output_type": "stream",
     "text": [
      "tensor([[ 24,  30,  36],\n",
      "        [ 51,  66,  81],\n",
      "        [ 78, 102, 126]])\n"
     ]
    }
   ],
   "source": [
    "# Define two matrices as PyTorch tensors\n",
    "\n",
    "matrix_1 = torch.tensor([[1,2,3],\n",
    "                        [4,5,6],\n",
    "                        [7,8,9]])\n",
    "\n",
    "matrix_2 = torch.tensor([[0,1,2],\n",
    "                        [3,4,5],\n",
    "                        [6,7,8]])\n",
    "\n",
    "# Calculate the dot product of matrix_1 and matrix_2 using .matmul()\n",
    "product = torch.matmul(matrix_1, matrix_2)\n",
    "\n",
    "# Print resulting matrix\n",
    "print(product)"
   ]
  },
  {
   "cell_type": "code",
   "execution_count": null,
   "id": "ae80e775-ab3f-48b1-a565-a0d567156530",
   "metadata": {},
   "outputs": [],
   "source": []
  }
 ],
 "metadata": {
  "kernelspec": {
   "display_name": "Python 3 (ipykernel)",
   "language": "python",
   "name": "python3"
  },
  "language_info": {
   "codemirror_mode": {
    "name": "ipython",
    "version": 3
   },
   "file_extension": ".py",
   "mimetype": "text/x-python",
   "name": "python",
   "nbconvert_exporter": "python",
   "pygments_lexer": "ipython3",
   "version": "3.10.6"
  }
 },
 "nbformat": 4,
 "nbformat_minor": 5
}
